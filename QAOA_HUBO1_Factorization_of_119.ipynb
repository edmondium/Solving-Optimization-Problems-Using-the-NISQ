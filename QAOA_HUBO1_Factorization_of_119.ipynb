{
  "nbformat": 4,
  "nbformat_minor": 0,
  "metadata": {
    "colab": {
      "provenance": []
    },
    "kernelspec": {
      "name": "python3",
      "display_name": "Python 3"
    },
    "language_info": {
      "name": "python"
    }
  },
  "cells": [
    {
      "cell_type": "code",
      "execution_count": null,
      "metadata": {
        "id": "gmqrVgYqtzU3"
      },
      "outputs": [],
      "source": [
        "!pip install qiskit numpy qiskit-aer qiskit[visualization] ipyvolume\n",
        "from qiskit import QuantumCircuit, transpile, assemble\n",
        "from qiskit.circuit import Parameter\n",
        "from numpy import empty, pi, arange, array\n",
        "from qiskit_aer import AerSimulator\n",
        "from scipy.optimize import minimize\n",
        "from qiskit.visualization import plot_histogram\n",
        "import matplotlib.pyplot as plt"
      ]
    },
    {
      "cell_type": "code",
      "source": [
        "theta = Parameter(\"$\\\\theta$\")\n",
        "g = Parameter(\"$\\\\gamma$\")\n",
        "b = Parameter(\"$\\\\beta$\")"
      ],
      "metadata": {
        "id": "pkPRy4DXBxQd"
      },
      "execution_count": null,
      "outputs": []
    },
    {
      "cell_type": "code",
      "source": [
        "def CostFun(bit_string):\n",
        "    i = 0\n",
        "    x = empty([len(bit_string)], dtype=int)\n",
        "    for char in bit_string[::-1]:\n",
        "        x[i] = int(char)\n",
        "        i = i + 1\n",
        "    return (2 - 2*x[1] + 5*x[3] + 3*x[4] + 2*x[0]*x[1] + 2*x[0]*x[2] - 4*x[0]*x[3] + 3*x[1]*x[2] + 2*x[1]*x[4] + 2*x[2]*x[4] - 4*x[2]*x[3] - 4*x[3]*x[4] + 2*x[1]*x[2]*x[3] - 4*x[1]*x[2]*x[4])"
      ],
      "metadata": {
        "id": "PNn0vjg6B1i1"
      },
      "execution_count": null,
      "outputs": []
    },
    {
      "cell_type": "code",
      "source": [
        "def compute_expectation(counts):\n",
        "    \"\"\"Computes expectation value based on measurement results\n",
        "    Args:\n",
        "        counts: (dict) key as bit string, val as count\n",
        "\n",
        "    Returns:\n",
        "        avg: float\n",
        "             expectation value\n",
        "    \"\"\"\n",
        "    avg = 0\n",
        "    sum_count = 0\n",
        "    count_max = 0\n",
        "    bit_string_max = \"\"\n",
        "    for bit_string, count in counts.items():\n",
        "        obj = CostFun(bit_string)\n",
        "        #print(bit_string)\n",
        "        #print(obj)\n",
        "        avg += obj * count\n",
        "        sum_count += count\n",
        "        if (count > count_max):\n",
        "            count_max = count\n",
        "            bit_string_max = bit_string\n",
        "\n",
        "    #print(bit_string_max,\": \",avg/sum_count)\n",
        "    return avg/sum_count"
      ],
      "metadata": {
        "id": "hhh20AbZB9V1"
      },
      "execution_count": null,
      "outputs": []
    },
    {
      "cell_type": "code",
      "source": [
        "# We will also bring the different circuit components that\n",
        "# build the qaoa circuit under a single function\n",
        "\n",
        "def create_qaoa_circ(theta):\n",
        "    \"\"\"Creates a parametrized qaoa circuit\n",
        "    Args:\n",
        "        gamma,beta\n",
        "        theta: (list) unitary parameters\n",
        "    Returns:\n",
        "        (QuantumCircuit) qiskit circuit\n",
        "    \"\"\"\n",
        "    qc = QuantumCircuit(5)\n",
        "\n",
        "    g = theta[0]\n",
        "    b = theta[1]\n",
        "\n",
        "    \"\"\"\n",
        "    g1 = theta[1]\n",
        "    g2 = theta[2]\n",
        "    g3 = theta[3]\n",
        "    g4 = theta[4]\n",
        "    g5 = theta[5]\n",
        "    g6 = theta[6]\n",
        "    g7 = theta[7]\n",
        "    g8 = theta[8]\n",
        "    g9 = theta[9]\n",
        "    g10 = theta[10]\n",
        "    g11 = theta[11]\n",
        "    g12 = theta[12]\n",
        "\n",
        "    #b = theta[1]\n",
        "    \"\"\"\n",
        "\n",
        "    qc.h(0)\n",
        "    qc.h(1)\n",
        "    qc.h(2)\n",
        "    qc.h(3)\n",
        "    qc.h(4)\n",
        "\n",
        "    \"\"\"\n",
        "    qc.rz(-1*2*g0,0)\n",
        "    qc.rz(-1*2*g1,1)\n",
        "    qc.rz(-1*2*g2,2)\n",
        "    qc.rz(-1*2*g3,3)\n",
        "    qc.rz(-1*2*g4,4)\n",
        "\n",
        "\n",
        "    qc.rzz(1*2*g5,0,1)\n",
        "    qc.rzz(1*2*g6,1,2)\n",
        "    qc.rzz(1*2*g7,2,3)\n",
        "    qc.rzz(1*2*g8,3,4)\n",
        "\n",
        "    qc.rzz(1*2*g9,0,2)\n",
        "    qc.rzz(1*2*g10,1,3)\n",
        "    qc.rzz(1*2*g11,2,4)\n",
        "\n",
        "    #qc.rzz(1*2*g,0,3)\n",
        "    #qc.rzz(1*2*g,1,4)\n",
        "\n",
        "    qc.rzz(1*2*g12,0,4)\n",
        "\n",
        "    \"\"\"\n",
        "    qc.rz(-2*2*g,1)\n",
        "    qc.rz(-2*2*g,2)\n",
        "    qc.rz(1*2*g,3)\n",
        "    qc.rz(-4*2*g,4)\n",
        "\n",
        "    qc.rzz(2*2*g,0,1)\n",
        "    qc.rzz(2*2*g,0,2)\n",
        "    qc.rzz(-4*2*g,0,3)\n",
        "    qc.rzz(2*2*g,1,2)\n",
        "    qc.rzz(1*2*g,1,3)\n",
        "    qc.rzz(-3*2*g,2,3)\n",
        "    qc.rzz(-4*2*g,3,4)\n",
        "\n",
        "    qc.barrier()\n",
        "\n",
        "    qc.cx(1,2)\n",
        "    qc.rzz(-1*2*g,2,3)\n",
        "    qc.rzz(2*2*g,2,4)\n",
        "    qc.cx(1,2)\n",
        "\n",
        "    qc.barrier()\n",
        "\n",
        "    qc.rx(2*b,0)\n",
        "    qc.rx(2*b,1)\n",
        "    qc.rx(2*b,2)\n",
        "    qc.rx(2*b,3)\n",
        "    qc.rx(2*b,4)\n",
        "\n",
        "    qc.measure_all()\n",
        "\n",
        "    return qc"
      ],
      "metadata": {
        "id": "I8EwEZ_5CDu1"
      },
      "execution_count": null,
      "outputs": []
    },
    {
      "cell_type": "code",
      "source": [
        "# Finally we write a function that executes the circuit\n",
        "# on the chosen backend\n",
        "\n",
        "def get_expectation():\n",
        "    backend = AerSimulator()\n",
        "    backend.shots = 10000\n",
        "\n",
        "    def execute_circ(theta):\n",
        "        #print(theta[0],\" \",theta[1],\" \",theta[2],\" \",theta[3],\" \",theta[4],\" \",theta[5],\" \",theta[6],\" \",theta[7],\" \",theta[8],\" \",theta[9],\" \",theta[10],\" \",theta[11],\" \",theta[12])\n",
        "        print(theta[0],\" \",theta[1])\n",
        "\n",
        "        qc = create_qaoa_circ(theta)\n",
        "\n",
        "        counts = backend.run(qc, seed_simulator=10,\n",
        "                             shots=10000).result().get_counts()\n",
        "        return compute_expectation(counts)\n",
        "\n",
        "    return execute_circ"
      ],
      "metadata": {
        "id": "P6qjU3bdCRJV"
      },
      "execution_count": null,
      "outputs": []
    },
    {
      "cell_type": "code",
      "source": [
        "# Run the whole thing\n",
        "\n",
        "expectation = get_expectation()\n",
        "\n",
        "res = minimize(expectation,\n",
        "               [0.5,0.5],\n",
        "               method='COBYLA',\n",
        "               tol=0.000001,\n",
        "               options={'disp': True})\n",
        "\n",
        "print(res)\n",
        "\n",
        "backend = AerSimulator()\n",
        "\n",
        "qc_res = create_qaoa_circ(res.x)\n",
        "counts = backend.run(qc_res, seed_simulator=10, shots=10000).result().get_counts()\n",
        "\n",
        "plot_histogram(counts)"
      ],
      "metadata": {
        "id": "Mq00eoWwt__2"
      },
      "execution_count": null,
      "outputs": []
    },
    {
      "cell_type": "code",
      "source": [
        "qc_res.draw(output='mpl',fold=-1)\n"
      ],
      "metadata": {
        "id": "FKnKmZnouCKd"
      },
      "execution_count": null,
      "outputs": []
    },
    {
      "cell_type": "code",
      "source": [
        "CostFun('00010')\n"
      ],
      "metadata": {
        "id": "Ckf9EQ1cuFNd"
      },
      "execution_count": null,
      "outputs": []
    },
    {
      "cell_type": "code",
      "source": [
        "# This is gonna take some time... (cca 5 minutes)\n",
        "# Preparation of 3D surface view of optimized ansatz expectation values for various gamma and beta\n",
        "\n",
        "import ipyvolume as ipv\n",
        "import numpy as np\n",
        "X = arange(0,pi,pi/100)\n",
        "Y = arange(0,pi,pi/100)\n",
        "Xmesh, Ymesh = np.meshgrid(X, Y)\n",
        "Zmesh = Xmesh * Ymesh\n",
        "i=0\n",
        "for gamma in X:\n",
        "    j=0\n",
        "    for beta in Y:\n",
        "        theta = []\n",
        "        theta.append(gamma)\n",
        "        theta.append(beta)\n",
        "        qc_res = create_qaoa_circ(theta)\n",
        "        counts = backend.run(qc_res, seed_simulator=10, shots=10000).result().get_counts()\n",
        "        e = compute_expectation(counts)\n",
        "        Zmesh[j][i] = e\n",
        "        j = j + 1\n",
        "    i = i + 1\n"
      ],
      "metadata": {
        "id": "jTznB5RnuIKW"
      },
      "execution_count": null,
      "outputs": []
    },
    {
      "cell_type": "code",
      "source": [
        "# 3D surface view of optimized ansatz expectation values for various gamma and beta\n",
        "# Use mouse wheel to zoom in/out\n",
        "\n",
        "from matplotlib import cm\n",
        "colormap = cm.coolwarm\n",
        "znorm = Zmesh - Zmesh.min()\n",
        "znorm /= znorm.ptp()\n",
        "znorm.min(), znorm.max()\n",
        "color = colormap(znorm)\n",
        "\n",
        "ipv.figure()\n",
        "mesh = ipv.plot_surface(Xmesh, Ymesh, Zmesh, color=color[...,:3])\n",
        "ipv.xlabel('Gamma')\n",
        "ipv.xlim(0,pi)\n",
        "ipv.ylabel('Beta')\n",
        "ipv.ylim(0,pi)\n",
        "ipv.zlabel('E')\n",
        "ipv.zlim(2,6)\n",
        "ipv.show()\n"
      ],
      "metadata": {
        "id": "ClMfwCK5uLSf"
      },
      "execution_count": null,
      "outputs": []
    }
  ]
}