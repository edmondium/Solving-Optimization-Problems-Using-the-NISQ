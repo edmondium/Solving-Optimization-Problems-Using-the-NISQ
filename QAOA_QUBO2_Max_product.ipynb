{
  "nbformat": 4,
  "nbformat_minor": 0,
  "metadata": {
    "colab": {
      "provenance": []
    },
    "kernelspec": {
      "name": "python3",
      "display_name": "Python 3"
    },
    "language_info": {
      "name": "python"
    }
  },
  "cells": [
    {
      "cell_type": "code",
      "execution_count": null,
      "metadata": {
        "id": "wO9ieWl4rD41"
      },
      "outputs": [],
      "source": [
        "!pip install qiskit-optimization\n",
        "from qiskit_algorithms.utils import algorithm_globals\n",
        "from qiskit_algorithms import QAOA, NumPyMinimumEigensolver\n",
        "from qiskit_algorithms.optimizers import COBYLA\n",
        "from qiskit.primitives import Sampler\n",
        "from qiskit_optimization.algorithms import (\n",
        "    MinimumEigenOptimizer,\n",
        "    RecursiveMinimumEigenOptimizer,\n",
        "    SolutionSample,\n",
        "    OptimizationResultStatus,\n",
        ")\n",
        "from qiskit_optimization import QuadraticProgram\n",
        "from qiskit.visualization import plot_histogram\n",
        "from typing import List, Tuple\n",
        "import numpy as np\n"
      ]
    },
    {
      "cell_type": "code",
      "source": [
        "# penalty constant\n",
        "k = 10\n"
      ],
      "metadata": {
        "id": "FohRsGpwrLKd"
      },
      "execution_count": null,
      "outputs": []
    },
    {
      "cell_type": "code",
      "source": [
        "# create a QUBO\n",
        "qubo = QuadraticProgram()\n",
        "qubo.binary_var(\"x0\")\n",
        "qubo.binary_var(\"x1\")\n",
        "qubo.binary_var(\"x2\")\n",
        "qubo.binary_var(\"y0\")\n",
        "qubo.binary_var(\"y1\")\n",
        "qubo.binary_var(\"y2\")\n",
        "qubo.minimize(constant=81*k, linear=[-17*k,-32*k,-56*k,-17*k,-32*k,-56*k], quadratic={(\"x0\",\"y0\"):(2*k-1), (\"x0\",\"y1\"):(4*k-2), (\"x0\",\"y2\"):(8*k-4), (\"x1\",\"y0\"):(4*k-2), (\"x1\",\"y1\"):(8*k-4), (\"x1\",\"y2\"):(16*k-8), (\"x2\",\"y0\"):(8*k-4), (\"x2\",\"y1\"):(16*k-8), (\"x2\",\"y2\"):(32*k-16), (\"x0\",\"x1\"):4*k, (\"x0\",\"x2\"):8*k, (\"x1\",\"x2\"):16*k, (\"y0\",\"y1\"):4*k, (\"y0\",\"y2\"):8*k, (\"y1\",\"y2\"):16*k})\n",
        "print(qubo.prettyprint())\n"
      ],
      "metadata": {
        "id": "EZzxuSoirOCb"
      },
      "execution_count": null,
      "outputs": []
    },
    {
      "cell_type": "code",
      "source": [
        "op, offset = qubo.to_ising()\n",
        "print(\"offset: {}\".format(offset))\n",
        "print(\"operator:\")\n",
        "print(op)\n"
      ],
      "metadata": {
        "id": "q-VQ8K_jrU7q"
      },
      "execution_count": null,
      "outputs": []
    },
    {
      "cell_type": "code",
      "source": [
        "qp = QuadraticProgram()\n",
        "qp.from_ising(op, offset, linear=True)\n",
        "print(qp.prettyprint())\n"
      ],
      "metadata": {
        "id": "tRfTio16rVFz"
      },
      "execution_count": null,
      "outputs": []
    },
    {
      "cell_type": "code",
      "source": [
        "algorithm_globals.random_seed = 10598\n",
        "qaoa_mes = QAOA(sampler=Sampler(), optimizer=COBYLA(), initial_point=[0.5, 0.5])\n",
        "exact_mes = NumPyMinimumEigensolver()\n"
      ],
      "metadata": {
        "id": "GcZCrH4_rVJK"
      },
      "execution_count": null,
      "outputs": []
    },
    {
      "cell_type": "code",
      "source": [
        "qaoa = MinimumEigenOptimizer(qaoa_mes)  # using QAOA\n",
        "exact = MinimumEigenOptimizer(exact_mes)  # using the exact classical numpy minimum eigen solver\n"
      ],
      "metadata": {
        "id": "XjsghGOMrVPj"
      },
      "execution_count": null,
      "outputs": []
    },
    {
      "cell_type": "code",
      "source": [
        "exact_result = exact.solve(qubo)\n",
        "print(exact_result.prettyprint())\n"
      ],
      "metadata": {
        "id": "hrAjwDA9rVTM"
      },
      "execution_count": null,
      "outputs": []
    },
    {
      "cell_type": "code",
      "source": [
        "qaoa_result = qaoa.solve(qubo)\n",
        "print(qaoa_result.prettyprint())\n"
      ],
      "metadata": {
        "id": "pkcw7fq2ri93"
      },
      "execution_count": null,
      "outputs": []
    },
    {
      "cell_type": "code",
      "source": [
        "print(\"variable order:\", [var.name for var in qaoa_result.variables])\n",
        "for s in qaoa_result.samples:\n",
        "    print(s)\n"
      ],
      "metadata": {
        "id": "YIDk-RG-rjAs"
      },
      "execution_count": null,
      "outputs": []
    }
  ]
}