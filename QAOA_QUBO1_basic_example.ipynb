{
  "nbformat": 4,
  "nbformat_minor": 0,
  "metadata": {
    "colab": {
      "provenance": []
    },
    "kernelspec": {
      "name": "python3",
      "display_name": "Python 3"
    },
    "language_info": {
      "name": "python"
    }
  },
  "cells": [
    {
      "cell_type": "code",
      "execution_count": null,
      "metadata": {
        "id": "8aE95qk7m4bN"
      },
      "outputs": [],
      "source": [
        "!pip install qiskit-optimization\n",
        "from qiskit_algorithms.utils import algorithm_globals\n",
        "from qiskit_algorithms import QAOA, NumPyMinimumEigensolver\n",
        "from qiskit_algorithms.optimizers import COBYLA\n",
        "from qiskit.primitives import Sampler\n",
        "from qiskit_optimization.algorithms import (\n",
        "    MinimumEigenOptimizer,\n",
        "    RecursiveMinimumEigenOptimizer,\n",
        "    SolutionSample,\n",
        "    OptimizationResultStatus,\n",
        ")\n",
        "from qiskit_optimization import QuadraticProgram\n",
        "from qiskit.visualization import plot_histogram\n",
        "from typing import List, Tuple\n",
        "import numpy as np\n"
      ]
    },
    {
      "cell_type": "code",
      "source": [
        "# create a QUBO\n",
        "qubo = QuadraticProgram()\n",
        "qubo.binary_var(\"x0\")\n",
        "qubo.binary_var(\"x1\")\n",
        "qubo.binary_var(\"x2\")\n",
        "qubo.minimize(linear=[1, -2, 3], quadratic={(\"x0\", \"x1\"): 1, (\"x0\", \"x2\"): -1, (\"x1\", \"x2\"): 2})\n",
        "print(qubo.prettyprint())\n"
      ],
      "metadata": {
        "id": "JkYR0DSfnBe7"
      },
      "execution_count": null,
      "outputs": []
    },
    {
      "cell_type": "code",
      "source": [
        "op, offset = qubo.to_ising()\n",
        "print(\"offset: {}\".format(offset))\n",
        "print(\"operator:\")\n",
        "print(op)\n"
      ],
      "metadata": {
        "id": "rDkrmiF8nHfi"
      },
      "execution_count": null,
      "outputs": []
    },
    {
      "cell_type": "code",
      "source": [
        "qp = QuadraticProgram()\n",
        "qp.from_ising(op, offset, linear=True)\n",
        "print(qp.prettyprint())\n"
      ],
      "metadata": {
        "id": "v3zbbDM6nMTL"
      },
      "execution_count": null,
      "outputs": []
    },
    {
      "cell_type": "code",
      "source": [
        "algorithm_globals.random_seed = 10598\n",
        "qaoa_mes = QAOA(sampler=Sampler(), optimizer=COBYLA(), initial_point=[0.0, 0.0])\n",
        "exact_mes = NumPyMinimumEigensolver()\n"
      ],
      "metadata": {
        "id": "MxGwAwZynP7S"
      },
      "execution_count": null,
      "outputs": []
    },
    {
      "cell_type": "code",
      "source": [
        "qaoa = MinimumEigenOptimizer(qaoa_mes)  # using QAOA\n",
        "exact = MinimumEigenOptimizer(exact_mes)  # using the exact classical numpy minimum eigen solver\n"
      ],
      "metadata": {
        "id": "oW_dsWEdnSgC"
      },
      "execution_count": null,
      "outputs": []
    },
    {
      "cell_type": "code",
      "source": [
        "exact_result = exact.solve(qubo)\n",
        "print(exact_result.prettyprint())\n"
      ],
      "metadata": {
        "id": "LuHqxex3nWZj"
      },
      "execution_count": null,
      "outputs": []
    },
    {
      "cell_type": "code",
      "source": [
        "qaoa_result = qaoa.solve(qubo)\n",
        "print(qaoa_result.prettyprint())\n"
      ],
      "metadata": {
        "id": "t7hQubVpnbLh"
      },
      "execution_count": null,
      "outputs": []
    },
    {
      "cell_type": "code",
      "source": [
        "print(\"variable order:\", [var.name for var in qaoa_result.variables])\n",
        "for s in qaoa_result.samples:\n",
        "    print(s)\n"
      ],
      "metadata": {
        "id": "wsGl8-XKncNJ"
      },
      "execution_count": null,
      "outputs": []
    }
  ]
}